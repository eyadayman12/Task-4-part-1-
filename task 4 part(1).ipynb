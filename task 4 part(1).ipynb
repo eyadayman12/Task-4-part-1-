{
 "cells": [
  {
   "cell_type": "code",
   "execution_count": 1,
   "id": "48649744",
   "metadata": {
    "ExecuteTime": {
     "end_time": "2021-09-03T00:45:15.424072Z",
     "start_time": "2021-09-03T00:45:15.409036Z"
    }
   },
   "outputs": [
    {
     "name": "stdout",
     "output_type": "stream",
     "text": [
      "Hi!\n",
      "Hey!\n",
      "Hello!\n"
     ]
    }
   ],
   "source": [
    "class A:\n",
    "    def say_hello(self):\n",
    "        print(\"Hi!\")\n",
    "        \n",
    "class B:\n",
    "    def say_hello(self):\n",
    "        super().say_hello()\n",
    "        print(\"Hey!\")\n",
    "        \n",
    "class C(B,A):\n",
    "    def say_hello(self):\n",
    "        super().say_hello()\n",
    "        print(\"Hello!\")\n",
    "        \n",
    "welcome = C()\n",
    "welcome.say_hello()\n",
    "        \n"
   ]
  },
  {
   "cell_type": "code",
   "execution_count": null,
   "id": "1b45143e",
   "metadata": {},
   "outputs": [],
   "source": []
  }
 ],
 "metadata": {
  "kernelspec": {
   "display_name": "Python 3",
   "language": "python",
   "name": "python3"
  },
  "language_info": {
   "codemirror_mode": {
    "name": "ipython",
    "version": 3
   },
   "file_extension": ".py",
   "mimetype": "text/x-python",
   "name": "python",
   "nbconvert_exporter": "python",
   "pygments_lexer": "ipython3",
   "version": "3.8.8"
  },
  "toc": {
   "base_numbering": 1,
   "nav_menu": {},
   "number_sections": true,
   "sideBar": true,
   "skip_h1_title": false,
   "title_cell": "Table of Contents",
   "title_sidebar": "Contents",
   "toc_cell": false,
   "toc_position": {},
   "toc_section_display": true,
   "toc_window_display": false
  }
 },
 "nbformat": 4,
 "nbformat_minor": 5
}
